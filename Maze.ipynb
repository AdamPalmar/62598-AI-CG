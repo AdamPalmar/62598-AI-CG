{
 "cells": [
  {
   "cell_type": "code",
   "execution_count": 85,
   "metadata": {
    "collapsed": false
   },
   "outputs": [],
   "source": [
    "import numpy as np\n",
    "import heapq\n",
    "\n",
    "class Node:\n",
    "    \n",
    "    def __init__(self,cost,x,y):\n",
    "        self.h = cost\n",
    "        self.x = x\n",
    "        self.y = y\n",
    "        self.stepCost = 0\n",
    "        self.visited = False  \n",
    "        \n",
    "    def getCost(self):\n",
    "        return self.h\n",
    "    \n",
    "    def setCost(self,cost):\n",
    "        self.h = cost\n",
    "        \n",
    "        \n",
    "\n",
    "class PriorityQueue:\n",
    "    def __init__(self):\n",
    "        self._queue = []\n",
    "        self._index = 0\n",
    "        self.counter = 0\n",
    "\n",
    "    def push(self, item, priority):\n",
    "        self.counter += 1\n",
    "        heapq.heappush(self._queue, (priority, self._index, item))\n",
    "        self._index += 1\n",
    "        #print \"Pushing number\" , self.counter\n",
    "\n",
    "    def pop(self):\n",
    "        #print \"Elements in stack \",self.counter\n",
    "        self.counter -= 1\n",
    "        return heapq.heappop(self._queue)[-1]\n",
    "\n",
    "    def replace(self,item,priority):\n",
    "        heapq.heapreplace([item], [priority])\n",
    "        \n",
    "    def isEmpty(self):\n",
    "        if self.counter == 0:\n",
    "            return True\n",
    "        else:\n",
    "            return False\n",
    "\n",
    "class Board:\n",
    "    \n",
    "    def __init__(self,x,y):\n",
    "        self.x = x\n",
    "        self.y = y\n",
    "        self.done = False\n",
    "        self.matrix = np.zeros((x,y))\n",
    "        \n",
    "        self.goal = (0,0)\n",
    "        \n",
    "        self.nodeMatrix = {}\n",
    "        for x_ in range(x):\n",
    "            for y_ in range(y):\n",
    "                self.nodeMatrix[x_,y_] = Node(0,x_,y_)\n",
    "                \n",
    "        \n",
    "        self.q = PriorityQueue()\n",
    "\n",
    "        \n",
    "        self.correctPath = []\n",
    "        \n",
    "        #print self.matrix\n",
    "        \n",
    "    def setGoal(self,x,y):\n",
    "        self.matrix[x,y] = 3\n",
    "        self.goal = (x,y)\n",
    "    def makePath(self,path):\n",
    "        self.setGoal(7,10)\n",
    "        for tup in path:\n",
    "            self.matrix[tup[0],tup[1]] = 1 \n",
    "        print self.matrix\n",
    "        \n",
    "    def valid(self,x,y):\n",
    "        if (-1 < x < self.x):\n",
    "            if (-1 < y < self.y):\n",
    "                if self.matrix[x][y] == 0 or self.matrix[x][y] == 3:\n",
    "                    return True\n",
    "        \n",
    "        return False\n",
    "    \n",
    "    def lookAtNeighbor(self,x,y,parent):\n",
    "        \n",
    "        #print \"Looking at \",x,y\n",
    "        if (-1 < x < self.x):\n",
    "            if (-1 < y < self.y):\n",
    "                if self.matrix[x,y] != 1: # This is a wall\n",
    "                    if self.checkGoal(x,y):\n",
    "                        self.nodeMatrix[x,y].visited = True\n",
    "                        score = self.heuristicScore(x,y)\n",
    "                        n = Node(score,x,y)\n",
    "                        n.stepCost = parent.stepCost + 1\n",
    "                        self.nodeMatrix[x,y] = n\n",
    "                        self.q.push(n,n.h + n.stepCost)\n",
    "                        self.done = True\n",
    "\n",
    "                    elif self.matrix[x,y] == 0: # It has not been visited\n",
    "                        #print \"Push\", x,y\n",
    "                        #self.matrix[x,y] = 8\n",
    "                        self.nodeMatrix[x,y].visited = True\n",
    "                        score = self.heuristicScore(x,y)\n",
    "                        n = Node(score,x,y)\n",
    "                        n.stepCost = parent.stepCost + 1\n",
    "                        self.nodeMatrix[x,y] = n\n",
    "                        self.q.push(n,n.h + n.stepCost)\n",
    "\n",
    "\n",
    "    def addToQue(self,x,y,parent):\n",
    "        \n",
    "        self.lookAtNeighbor(x+1,y,parent)\n",
    "        self.lookAtNeighbor(x-1,y,parent)\n",
    "        self.lookAtNeighbor(x,y+1,parent)\n",
    "        self.lookAtNeighbor(x,y-1,parent)\n",
    "\n",
    "          \n",
    "    def popOffQueue(self):\n",
    "        return self.q.pop()\n",
    "        \n",
    "    def checkGoal(self,x,y):\n",
    "        if x == self.goal[0] and y == self.goal[1]:\n",
    "            return True\n",
    "        \n",
    "    def startSearch(self,x,y):\n",
    "        score = self.heuristicScore(x,y)\n",
    "        node = Node(score,x,y)\n",
    "        self.nodeMatrix[x,y] = node\n",
    "        \n",
    "        self.q.push(node,score)\n",
    "        print \"Start search\"\n",
    "        \n",
    "        \n",
    "        counter = 0\n",
    "        while not self.q.isEmpty():\n",
    "            counter += 1\n",
    "            #print \"PoP\"\n",
    "            n = self.popOffQueue()\n",
    "            self.matrix[n.x,n.y] = 8\n",
    "            if self.done:\n",
    "                print \"Found goal\" \n",
    "                break\n",
    "            else:\n",
    "                self.addToQue(n.x,n.y,n)\n",
    "                \n",
    "            \n",
    "        \n",
    "            \n",
    "    \n",
    "    def search(self,x,y):\n",
    "        #print x,y\n",
    "        \n",
    "\n",
    "        if self.valid(x,y):\n",
    "            \n",
    "            if self.matrix[x,y] == 3:\n",
    "                print \"Goal at\" , (x,y)\n",
    "                return True\n",
    "            self.matrix[x,y] = -1\n",
    "            \n",
    "            \n",
    "            if self.search(x+1,y):\n",
    "                print x,y\n",
    "                return True  \n",
    "            elif self.search(x-1,y):\n",
    "                print x,y\n",
    "                return True  \n",
    "                \n",
    "            elif self.search(x,y+1):\n",
    "                print x,y\n",
    "                return True  \n",
    "            elif self.search(x,y-1):\n",
    "                print x,y\n",
    "                return True\n",
    "            else: return False   \n",
    "  \n",
    "        else:\n",
    "            return False\n",
    "        \n",
    "    def heuristicScore(self,x,y):\n",
    "        return abs(x-self.goal[0]) + abs(y - self.goal[1])\n",
    "            \n",
    "    def inQueue(self,x,y):\n",
    "        \n",
    "        return\n",
    "    def p(self):\n",
    "        print \"HELLO\""
   ]
  },
  {
   "cell_type": "code",
   "execution_count": 86,
   "metadata": {
    "collapsed": false,
    "scrolled": true
   },
   "outputs": [
    {
     "name": "stdout",
     "output_type": "stream",
     "text": [
      "[[ 0.  1.  0.  1.  0.  1.  0.  0.  0.  0.  0.]\n",
      " [ 0.  1.  0.  0.  0.  1.  0.  1.  1.  1.  0.]\n",
      " [ 0.  0.  0.  1.  1.  1.  0.  0.  0.  0.  0.]\n",
      " [ 0.  1.  0.  0.  0.  0.  0.  1.  1.  1.  0.]\n",
      " [ 0.  1.  0.  1.  1.  1.  0.  1.  0.  0.  0.]\n",
      " [ 0.  1.  0.  1.  0.  0.  0.  1.  1.  1.  0.]\n",
      " [ 0.  1.  0.  1.  1.  1.  0.  1.  0.  1.  0.]\n",
      " [ 0.  0.  0.  0.  0.  0.  0.  0.  0.  1.  3.]]\n"
     ]
    }
   ],
   "source": [
    "b = Board(8,11)\n",
    "blocked = [(0,1),(1,1),(3,1),(4,1),(5,1),(6,1),\n",
    "           (0,3),(2,3),(4,3),(5,3),(6,3),\n",
    "           (2,4),(4,4),(6,4),\n",
    "           (0,5),(1,5),(2,5),(4,5),(6,5),(1,7),(3,7),\n",
    "           (4,7),(5,7),(6,7),(1,8),(3,8),(5,8),(1,9),\n",
    "           (3,9),(5,9),(6,9),(7,9)\n",
    "          ]\n",
    "b.makePath(blocked)"
   ]
  },
  {
   "cell_type": "code",
   "execution_count": 87,
   "metadata": {
    "collapsed": false
   },
   "outputs": [
    {
     "name": "stdout",
     "output_type": "stream",
     "text": [
      "Start search\n",
      "Found goal\n",
      "[[ 0.  1.  0.  1.  0.  1.  0.  0.  0.  0.  0.]\n",
      " [ 0.  1.  8.  8.  8.  1.  0.  1.  1.  1.  0.]\n",
      " [ 0.  8.  8.  1.  1.  1.  8.  8.  8.  8.  8.]\n",
      " [ 0.  1.  8.  8.  8.  8.  8.  1.  1.  1.  8.]\n",
      " [ 0.  1.  8.  1.  1.  1.  8.  1.  0.  0.  8.]\n",
      " [ 0.  1.  8.  1.  0.  8.  8.  1.  1.  1.  8.]\n",
      " [ 0.  1.  8.  1.  1.  1.  8.  1.  8.  1.  8.]\n",
      " [ 0.  8.  8.  8.  8.  8.  8.  8.  8.  1.  8.]]\n"
     ]
    }
   ],
   "source": [
    "b.startSearch(2,2)\n",
    "\n",
    "\n",
    "print b.matrix"
   ]
  },
  {
   "cell_type": "code",
   "execution_count": 88,
   "metadata": {
    "collapsed": false
   },
   "outputs": [
    {
     "data": {
      "text/plain": [
       "8"
      ]
     },
     "execution_count": 88,
     "metadata": {},
     "output_type": "execute_result"
    }
   ],
   "source": [
    "b.q.counter"
   ]
  },
  {
   "cell_type": "code",
   "execution_count": 55,
   "metadata": {
    "collapsed": false
   },
   "outputs": [
    {
     "name": "stdout",
     "output_type": "stream",
     "text": [
      "Pushing number 1\n",
      "Pushing number 2\n",
      "Pushing number 3\n",
      "Elements in stack  3\n",
      "1\n",
      "Elements in stack  2\n",
      "2\n",
      "Elements in stack  1\n",
      "10\n"
     ]
    }
   ],
   "source": [
    "c = PriorityQueue()\n",
    "\n",
    "node_1 = Node(2,1,1)\n",
    "node_2 = Node(10,1,1)\n",
    "node_3 = Node(1,1,1)\n",
    "\n",
    "c.push(node_1,2)\n",
    "c.push(node_2,10)\n",
    "c.push(node_3,1)\n",
    "print c.pop().getCost()\n",
    "print c.pop().getCost()\n",
    "print c.pop().getCost()"
   ]
  },
  {
   "cell_type": "code",
   "execution_count": 205,
   "metadata": {
    "collapsed": false
   },
   "outputs": [
    {
     "name": "stdout",
     "output_type": "stream",
     "text": [
      "Pushing 1\n"
     ]
    }
   ],
   "source": [
    "qq = PriorityQueue()\n",
    "qq.push(Node(1,2,2),10)"
   ]
  },
  {
   "cell_type": "code",
   "execution_count": null,
   "metadata": {
    "collapsed": true
   },
   "outputs": [],
   "source": [
    ""
   ]
  },
  {
   "cell_type": "code",
   "execution_count": null,
   "metadata": {
    "collapsed": true
   },
   "outputs": [],
   "source": [
    ""
   ]
  }
 ],
 "metadata": {
  "kernelspec": {
   "display_name": "Python 2",
   "language": "python",
   "name": "python2"
  },
  "language_info": {
   "codemirror_mode": {
    "name": "ipython",
    "version": 2.0
   },
   "file_extension": ".py",
   "mimetype": "text/x-python",
   "name": "python",
   "nbconvert_exporter": "python",
   "pygments_lexer": "ipython2",
   "version": "2.7.11"
  }
 },
 "nbformat": 4,
 "nbformat_minor": 0
}